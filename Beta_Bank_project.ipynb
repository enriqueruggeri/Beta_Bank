{
 "cells": [
  {
   "cell_type": "markdown",
   "metadata": {},
   "source": [
    "# Beta Bank Project"
   ]
  },
  {
   "cell_type": "markdown",
   "metadata": {},
   "source": [
    "### Introducción."
   ]
  },
  {
   "cell_type": "markdown",
   "metadata": {},
   "source": [
    "En este proyecto vamos a trabajar con los datos de los clientes del banco Beta Bank.\n",
    "Cada mes los clientes del banco se están yendo poco a poco. Los banqueros descubrieron que es más barato salvar a los clientes existentes que atraer nuevos.\n",
    "\n",
    "Por lo anterior, necesitamos predecir si un cliente dejará el banco pronto. Para ello disponemos de los datos sobre el comportamiento pasado de los clientes y la terminación de contratos con el banco."
   ]
  },
  {
   "cell_type": "markdown",
   "metadata": {},
   "source": [
    "### Inicialización y carga de datos. "
   ]
  },
  {
   "cell_type": "markdown",
   "metadata": {},
   "source": [
    "Primero procedemos a importar Librerías:"
   ]
  },
  {
   "cell_type": "code",
   "execution_count": 3,
   "metadata": {},
   "outputs": [],
   "source": [
    "# Cargamos todas las librerías que ocuparemos en el proyecto:\n",
    "import pandas as pd # importamos las librerías de pandas\n",
    "from matplotlib import pyplot as plt # importamos las librerías pyplot de Matplotlib\n",
    "import numpy as np # importamos la librerías de NumPy, se usa para funciones matemáticas complejas\n",
    "from scipy import stats as st # importamos el módulo stats de la librería SciPy.\n",
    "import seaborn as sns # importamos la librería Seaborn para realizar unos gráficos\n",
    "sns.set_theme() # ocupamos esa librería para tener meejores gráficos\n",
    "from sklearn.model_selection import train_test_split #importamos la función train_test_split biblioteca scikit-learn\n",
    "from sklearn.tree import DecisionTreeClassifier # importamos la clase DecisionTreeClassifier\n",
    "from sklearn.ensemble import RandomForestClassifier # importamos la clase RandomForestClassifier \n",
    "from sklearn.metrics import accuracy_score # importamos la función accuracy_score de la biblioteca scikit-learn\n",
    "from sklearn.metrics import f1_score # importamos la función f1_score de la biblioteca scikit-learn\n",
    "from sklearn.metrics import roc_auc_score # importamos la función roc_auc_score de la biblioteca scikit-learn\n",
    "from sklearn.utils import shuffle # importamos la función shuffle de la biblioteca scikit-learn"
   ]
  },
  {
   "cell_type": "markdown",
   "metadata": {},
   "source": [
    "Leemos el Conjunto de Datos con la información del banco Beta Bank:"
   ]
  },
  {
   "cell_type": "code",
   "execution_count": 4,
   "metadata": {},
   "outputs": [],
   "source": [
    "# Cargamos el DataFrame:\n",
    "dbank = pd.read_csv('/datasets/Churn.csv') #cargamos el DataFrame."
   ]
  },
  {
   "cell_type": "markdown",
   "metadata": {},
   "source": [
    "### Preprocesamiento de los datos. "
   ]
  },
  {
   "cell_type": "markdown",
   "metadata": {},
   "source": [
    "Mostramos información general sobre el Conjunto de Datos:"
   ]
  },
  {
   "cell_type": "code",
   "execution_count": 5,
   "metadata": {},
   "outputs": [
    {
     "name": "stdout",
     "output_type": "stream",
     "text": [
      "<class 'pandas.core.frame.DataFrame'>\n",
      "RangeIndex: 10000 entries, 0 to 9999\n",
      "Data columns (total 14 columns):\n",
      " #   Column           Non-Null Count  Dtype  \n",
      "---  ------           --------------  -----  \n",
      " 0   RowNumber        10000 non-null  int64  \n",
      " 1   CustomerId       10000 non-null  int64  \n",
      " 2   Surname          10000 non-null  object \n",
      " 3   CreditScore      10000 non-null  int64  \n",
      " 4   Geography        10000 non-null  object \n",
      " 5   Gender           10000 non-null  object \n",
      " 6   Age              10000 non-null  int64  \n",
      " 7   Tenure           9091 non-null   float64\n",
      " 8   Balance          10000 non-null  float64\n",
      " 9   NumOfProducts    10000 non-null  int64  \n",
      " 10  HasCrCard        10000 non-null  int64  \n",
      " 11  IsActiveMember   10000 non-null  int64  \n",
      " 12  EstimatedSalary  10000 non-null  float64\n",
      " 13  Exited           10000 non-null  int64  \n",
      "dtypes: float64(3), int64(8), object(3)\n",
      "memory usage: 1.1+ MB\n",
      "----------\n",
      "   RowNumber  CustomerId   Surname  CreditScore Geography  Gender  Age  \\\n",
      "0          1    15634602  Hargrave          619    France  Female   42   \n",
      "1          2    15647311      Hill          608     Spain  Female   41   \n",
      "2          3    15619304      Onio          502    France  Female   42   \n",
      "3          4    15701354      Boni          699    France  Female   39   \n",
      "4          5    15737888  Mitchell          850     Spain  Female   43   \n",
      "\n",
      "   Tenure    Balance  NumOfProducts  HasCrCard  IsActiveMember  \\\n",
      "0     2.0       0.00              1          1               1   \n",
      "1     1.0   83807.86              1          0               1   \n",
      "2     8.0  159660.80              3          1               0   \n",
      "3     1.0       0.00              2          0               0   \n",
      "4     2.0  125510.82              1          1               1   \n",
      "\n",
      "   EstimatedSalary  Exited  \n",
      "0        101348.88       1  \n",
      "1        112542.58       0  \n",
      "2        113931.57       1  \n",
      "3         93826.63       0  \n",
      "4         79084.10       0  \n"
     ]
    }
   ],
   "source": [
    "# Imprimimos la información general/resumida sobre el DataFrame\n",
    "dbank.info() # llamamos al parámetro info para conocer la información general/resumida del DataFrame.\n",
    "print('----------')\n",
    "print(dbank.head()) # imprimimos las primeras líneas para ver el conjunto de datos."
   ]
  },
  {
   "cell_type": "markdown",
   "metadata": {},
   "source": [
    "En base al método info podemos ver que el conjunto de datos se encuentra conformado por 13 columnas de variables. Todas corresponden a variables numéricas salvo las columnas Surname, Gender y Geography que son columnas tipo string. Para estas columnas deberemos considerar algún tipo de procesamiento adicional si queremos incorporarlas en el análisis de modelos. \n",
    "\n",
    "Por otro lado, al parecer tenemos presencia de valores ausentes en la columna Tenure, lo cual analizaremos más adelante."
   ]
  },
  {
   "cell_type": "code",
   "execution_count": 6,
   "metadata": {},
   "outputs": [
    {
     "data": {
      "text/html": [
       "<div>\n",
       "<style scoped>\n",
       "    .dataframe tbody tr th:only-of-type {\n",
       "        vertical-align: middle;\n",
       "    }\n",
       "\n",
       "    .dataframe tbody tr th {\n",
       "        vertical-align: top;\n",
       "    }\n",
       "\n",
       "    .dataframe thead th {\n",
       "        text-align: right;\n",
       "    }\n",
       "</style>\n",
       "<table border=\"1\" class=\"dataframe\">\n",
       "  <thead>\n",
       "    <tr style=\"text-align: right;\">\n",
       "      <th></th>\n",
       "      <th>RowNumber</th>\n",
       "      <th>CustomerId</th>\n",
       "      <th>CreditScore</th>\n",
       "      <th>Age</th>\n",
       "      <th>Tenure</th>\n",
       "      <th>Balance</th>\n",
       "      <th>NumOfProducts</th>\n",
       "      <th>HasCrCard</th>\n",
       "      <th>IsActiveMember</th>\n",
       "      <th>EstimatedSalary</th>\n",
       "      <th>Exited</th>\n",
       "    </tr>\n",
       "  </thead>\n",
       "  <tbody>\n",
       "    <tr>\n",
       "      <th>count</th>\n",
       "      <td>10000.00000</td>\n",
       "      <td>1.000000e+04</td>\n",
       "      <td>10000.000000</td>\n",
       "      <td>10000.000000</td>\n",
       "      <td>9091.000000</td>\n",
       "      <td>10000.000000</td>\n",
       "      <td>10000.000000</td>\n",
       "      <td>10000.00000</td>\n",
       "      <td>10000.000000</td>\n",
       "      <td>10000.000000</td>\n",
       "      <td>10000.000000</td>\n",
       "    </tr>\n",
       "    <tr>\n",
       "      <th>mean</th>\n",
       "      <td>5000.50000</td>\n",
       "      <td>1.569094e+07</td>\n",
       "      <td>650.528800</td>\n",
       "      <td>38.921800</td>\n",
       "      <td>4.997690</td>\n",
       "      <td>76485.889288</td>\n",
       "      <td>1.530200</td>\n",
       "      <td>0.70550</td>\n",
       "      <td>0.515100</td>\n",
       "      <td>100090.239881</td>\n",
       "      <td>0.203700</td>\n",
       "    </tr>\n",
       "    <tr>\n",
       "      <th>std</th>\n",
       "      <td>2886.89568</td>\n",
       "      <td>7.193619e+04</td>\n",
       "      <td>96.653299</td>\n",
       "      <td>10.487806</td>\n",
       "      <td>2.894723</td>\n",
       "      <td>62397.405202</td>\n",
       "      <td>0.581654</td>\n",
       "      <td>0.45584</td>\n",
       "      <td>0.499797</td>\n",
       "      <td>57510.492818</td>\n",
       "      <td>0.402769</td>\n",
       "    </tr>\n",
       "    <tr>\n",
       "      <th>min</th>\n",
       "      <td>1.00000</td>\n",
       "      <td>1.556570e+07</td>\n",
       "      <td>350.000000</td>\n",
       "      <td>18.000000</td>\n",
       "      <td>0.000000</td>\n",
       "      <td>0.000000</td>\n",
       "      <td>1.000000</td>\n",
       "      <td>0.00000</td>\n",
       "      <td>0.000000</td>\n",
       "      <td>11.580000</td>\n",
       "      <td>0.000000</td>\n",
       "    </tr>\n",
       "    <tr>\n",
       "      <th>25%</th>\n",
       "      <td>2500.75000</td>\n",
       "      <td>1.562853e+07</td>\n",
       "      <td>584.000000</td>\n",
       "      <td>32.000000</td>\n",
       "      <td>2.000000</td>\n",
       "      <td>0.000000</td>\n",
       "      <td>1.000000</td>\n",
       "      <td>0.00000</td>\n",
       "      <td>0.000000</td>\n",
       "      <td>51002.110000</td>\n",
       "      <td>0.000000</td>\n",
       "    </tr>\n",
       "    <tr>\n",
       "      <th>50%</th>\n",
       "      <td>5000.50000</td>\n",
       "      <td>1.569074e+07</td>\n",
       "      <td>652.000000</td>\n",
       "      <td>37.000000</td>\n",
       "      <td>5.000000</td>\n",
       "      <td>97198.540000</td>\n",
       "      <td>1.000000</td>\n",
       "      <td>1.00000</td>\n",
       "      <td>1.000000</td>\n",
       "      <td>100193.915000</td>\n",
       "      <td>0.000000</td>\n",
       "    </tr>\n",
       "    <tr>\n",
       "      <th>75%</th>\n",
       "      <td>7500.25000</td>\n",
       "      <td>1.575323e+07</td>\n",
       "      <td>718.000000</td>\n",
       "      <td>44.000000</td>\n",
       "      <td>7.000000</td>\n",
       "      <td>127644.240000</td>\n",
       "      <td>2.000000</td>\n",
       "      <td>1.00000</td>\n",
       "      <td>1.000000</td>\n",
       "      <td>149388.247500</td>\n",
       "      <td>0.000000</td>\n",
       "    </tr>\n",
       "    <tr>\n",
       "      <th>max</th>\n",
       "      <td>10000.00000</td>\n",
       "      <td>1.581569e+07</td>\n",
       "      <td>850.000000</td>\n",
       "      <td>92.000000</td>\n",
       "      <td>10.000000</td>\n",
       "      <td>250898.090000</td>\n",
       "      <td>4.000000</td>\n",
       "      <td>1.00000</td>\n",
       "      <td>1.000000</td>\n",
       "      <td>199992.480000</td>\n",
       "      <td>1.000000</td>\n",
       "    </tr>\n",
       "  </tbody>\n",
       "</table>\n",
       "</div>"
      ],
      "text/plain": [
       "         RowNumber    CustomerId   CreditScore           Age       Tenure  \\\n",
       "count  10000.00000  1.000000e+04  10000.000000  10000.000000  9091.000000   \n",
       "mean    5000.50000  1.569094e+07    650.528800     38.921800     4.997690   \n",
       "std     2886.89568  7.193619e+04     96.653299     10.487806     2.894723   \n",
       "min        1.00000  1.556570e+07    350.000000     18.000000     0.000000   \n",
       "25%     2500.75000  1.562853e+07    584.000000     32.000000     2.000000   \n",
       "50%     5000.50000  1.569074e+07    652.000000     37.000000     5.000000   \n",
       "75%     7500.25000  1.575323e+07    718.000000     44.000000     7.000000   \n",
       "max    10000.00000  1.581569e+07    850.000000     92.000000    10.000000   \n",
       "\n",
       "             Balance  NumOfProducts    HasCrCard  IsActiveMember  \\\n",
       "count   10000.000000   10000.000000  10000.00000    10000.000000   \n",
       "mean    76485.889288       1.530200      0.70550        0.515100   \n",
       "std     62397.405202       0.581654      0.45584        0.499797   \n",
       "min         0.000000       1.000000      0.00000        0.000000   \n",
       "25%         0.000000       1.000000      0.00000        0.000000   \n",
       "50%     97198.540000       1.000000      1.00000        1.000000   \n",
       "75%    127644.240000       2.000000      1.00000        1.000000   \n",
       "max    250898.090000       4.000000      1.00000        1.000000   \n",
       "\n",
       "       EstimatedSalary        Exited  \n",
       "count     10000.000000  10000.000000  \n",
       "mean     100090.239881      0.203700  \n",
       "std       57510.492818      0.402769  \n",
       "min          11.580000      0.000000  \n",
       "25%       51002.110000      0.000000  \n",
       "50%      100193.915000      0.000000  \n",
       "75%      149388.247500      0.000000  \n",
       "max      199992.480000      1.000000  "
      ]
     },
     "execution_count": 6,
     "metadata": {},
     "output_type": "execute_result"
    }
   ],
   "source": [
    "# Utilizamos el método describe() para realizar una exploración rápida inicial de las variables numéricas\n",
    "# del conjunto de datos.\n",
    "dbank.describe()"
   ]
  },
  {
   "cell_type": "markdown",
   "metadata": {},
   "source": [
    "Ocupando el método describe() podemos tener toda la información de las distintas columnas del conjunto de datos. En particular vemos los valores de promedio, desviación estándar y valores máximos y mínimos para cada variable. Estos estadísticos nos pueden ayudar a comprender la distribución y la variabilidad de los datos, así como a identificar posibles valores atípicos o anomalías.\n",
    "\n",
    "En particular, podemos ver que para la columna Exited, que es la columna objetivo (target), es una columna binaria donde 1 corresponde a un cliente que se ha ido (1 - sí; 0 - no) y 0 representa que el cliente no se ha ido (1 - sí; 0 - no). La media de esta columna indica la proporción de clientes que se fueron.\n",
    "\n",
    "Entonces, para el conjunto de datos del banco Beta Bank, aproximadamente el 20,37% de los clientes se han ido del banco, mientras que el restante 79,63% se encuentra aún en el banco.\n",
    "\n",
    "A continuación vamos a analizar si hay columnas totalmente duplicadas y valores ausentes en el conjunto de datos."
   ]
  },
  {
   "cell_type": "code",
   "execution_count": 7,
   "metadata": {},
   "outputs": [
    {
     "name": "stdout",
     "output_type": "stream",
     "text": [
      "El número de filas totalmente duplicadas en el DF dbank es:\n",
      "0\n",
      "------------------\n"
     ]
    },
    {
     "data": {
      "text/plain": [
       "RowNumber            0\n",
       "CustomerId           0\n",
       "Surname              0\n",
       "CreditScore          0\n",
       "Geography            0\n",
       "Gender               0\n",
       "Age                  0\n",
       "Tenure             909\n",
       "Balance              0\n",
       "NumOfProducts        0\n",
       "HasCrCard            0\n",
       "IsActiveMember       0\n",
       "EstimatedSalary      0\n",
       "Exited               0\n",
       "dtype: int64"
      ]
     },
     "execution_count": 7,
     "metadata": {},
     "output_type": "execute_result"
    }
   ],
   "source": [
    "# Verificamos que no hay filas totalmente duplicadas en el Dataframe del banco Beta Bank.\n",
    "print('El número de filas totalmente duplicadas en el DF dbank es:')\n",
    "print(dbank.duplicated().sum())# verificamos si hay filas duplicadas.\n",
    "\n",
    "print('------------------')\n",
    "\n",
    "#Verificamos que no hay valores ausentes en el Dataframe.\n",
    "dbank.isna().sum() # para conocer los valores ausentes ocupamos usamos el método isna() \n",
    "                          # junto con el método sum().\n"
   ]
  },
  {
   "cell_type": "markdown",
   "metadata": {},
   "source": [
    "Vemos que no existen filas totalmente duplicadas, pero si hay 909 elementos ausentes en la columna Tenure.\n",
    "\n",
    "Sin embargo, antes de continuar con el análisis y de realizar los cambios en el conjunto de datos, considerando las reglas del buen estilo, vamos a traspasar a minúsculas todos los caracteres de los encabezados de las columnas."
   ]
  },
  {
   "cell_type": "code",
   "execution_count": 8,
   "metadata": {},
   "outputs": [
    {
     "data": {
      "text/plain": [
       "Index(['RowNumber', 'CustomerId', 'Surname', 'CreditScore', 'Geography',\n",
       "       'Gender', 'Age', 'Tenure', 'Balance', 'NumOfProducts', 'HasCrCard',\n",
       "       'IsActiveMember', 'EstimatedSalary', 'Exited'],\n",
       "      dtype='object')"
      ]
     },
     "execution_count": 8,
     "metadata": {},
     "output_type": "execute_result"
    }
   ],
   "source": [
    "dbank.columns# Muestra los nombres de las columnas"
   ]
  },
  {
   "cell_type": "code",
   "execution_count": 9,
   "metadata": {},
   "outputs": [
    {
     "name": "stdout",
     "output_type": "stream",
     "text": [
      "Index(['rownumber', 'customerid', 'surname', 'creditscore', 'geography',\n",
      "       'gender', 'age', 'tenure', 'balance', 'numofproducts', 'hascrcard',\n",
      "       'isactivemember', 'estimatedsalary', 'exited'],\n",
      "      dtype='object')\n"
     ]
    }
   ],
   "source": [
    "# Bucle en los encabezados poniendo todo en minúsculas\n",
    "\n",
    "new_col_names = []\n",
    "for old_name in dbank.columns:\n",
    "    name_lowered = old_name.lower() # con el método lowered pasamos todas las columnas a minúsculas\n",
    "    new_col_names.append(name_lowered)\n",
    "dbank.columns = new_col_names\n",
    "\n",
    "print(dbank.columns) # comprobamos el resultado realizando un print con el método columns."
   ]
  },
  {
   "cell_type": "markdown",
   "metadata": {},
   "source": [
    "Ahora procederemos a analizar los valores ausentes de la columna tenure, que corresponde al período de años durante el cual ha tenido un depósito a plazo fijo un cliente.\n",
    "\n",
    "Para ello primero vamos a imprimir algunas filas de los valores ausentes para tener una idea general de ellos."
   ]
  },
  {
   "cell_type": "code",
   "execution_count": 10,
   "metadata": {},
   "outputs": [
    {
     "name": "stdout",
     "output_type": "stream",
     "text": [
      "     rownumber  customerid    surname  creditscore geography  gender  age  \\\n",
      "30          31    15589475    Azikiwe          591     Spain  Female   39   \n",
      "48          49    15766205        Yin          550   Germany    Male   38   \n",
      "51          52    15768193  Trevisani          585   Germany    Male   36   \n",
      "53          54    15702298   Parkhill          655   Germany    Male   41   \n",
      "60          61    15651280     Hunter          742   Germany    Male   35   \n",
      "82          83    15641732      Mills          543    France  Female   36   \n",
      "85          86    15805254    Ndukaku          652     Spain  Female   75   \n",
      "94          95    15676966      Capon          730     Spain    Male   42   \n",
      "99         100    15633059    Fanucci          413    France    Male   34   \n",
      "111        112    15665790   Rowntree          538   Germany    Male   39   \n",
      "\n",
      "     tenure    balance  numofproducts  hascrcard  isactivemember  \\\n",
      "30      NaN       0.00              3          1               0   \n",
      "48      NaN  103391.38              1          0               1   \n",
      "51      NaN  146050.97              2          0               0   \n",
      "53      NaN  125561.97              1          0               0   \n",
      "60      NaN  136857.00              1          0               0   \n",
      "82      NaN       0.00              2          0               0   \n",
      "85      NaN       0.00              2          1               1   \n",
      "94      NaN       0.00              2          0               1   \n",
      "99      NaN       0.00              2          0               0   \n",
      "111     NaN  108055.10              2          1               0   \n",
      "\n",
      "     estimatedsalary  exited  \n",
      "30         140469.38       1  \n",
      "48          90878.13       0  \n",
      "51          86424.57       0  \n",
      "53         164040.94       1  \n",
      "60          84509.57       0  \n",
      "82          26019.59       0  \n",
      "85         114675.75       0  \n",
      "94          85982.47       0  \n",
      "99           6534.18       0  \n",
      "111         27231.26       0  \n"
     ]
    }
   ],
   "source": [
    "# Filtramos las filas con valores ausentes en la columna 'tenure'\n",
    "rows_with_missing_tenure = dbank[dbank['tenure'].isna()]\n",
    "\n",
    "# Imprimimos las primeras 10 filas con valores ausentes en la columna 'tenure'\n",
    "print(rows_with_missing_tenure.head(10))"
   ]
  },
  {
   "cell_type": "code",
   "execution_count": 11,
   "metadata": {},
   "outputs": [
    {
     "name": "stdout",
     "output_type": "stream",
     "text": [
      "rownumber          0\n",
      "customerid         0\n",
      "surname            0\n",
      "creditscore        0\n",
      "geography          0\n",
      "gender             0\n",
      "age                0\n",
      "tenure             0\n",
      "balance            0\n",
      "numofproducts      0\n",
      "hascrcard          0\n",
      "isactivemember     0\n",
      "estimatedsalary    0\n",
      "exited             0\n",
      "dtype: int64\n"
     ]
    }
   ],
   "source": [
    "# La columna Tenure corresponde al período de años durante el cual ha madurado el depósito a plazo fijo \n",
    "# de un cliente. \n",
    "# Vamos a suponer que los clientes que no tiene un depósito a plazo fijo tienen NaN en esa \n",
    "# columna. Como representan a aproximadamente un 9% de los clientes, en vez de eliminar estas filas,\n",
    "# vamos a definir un período de cero años a los clientes que tienen NaN.\n",
    "\n",
    "# Para ello le completaremos los valores ausentes con un valor cero ocupando un Bucle for:\n",
    "\n",
    "columns_to_replace = []\n",
    "for col in dbank.columns:\n",
    "    dbank[col].fillna(0, inplace=True) # mediante este bucle reemplazamos los valores ausentes con cero.\n",
    "    \n",
    "print(dbank.isna().sum()) # luego comprobamos que ya no hay valores ausentes."
   ]
  },
  {
   "cell_type": "markdown",
   "metadata": {},
   "source": [
    "Ahora, con el objeto de conocer un poco más el conjunto de datos antes de entrar a los modelos, realizaremos un conjunto de gráficos sobre como se comportan los promedios de algunas variables en función de la columna objetivo Exited, que nos indica si el cliente se ha ido (1 - sí; 0 - no)."
   ]
  },
  {
   "cell_type": "code",
   "execution_count": 12,
   "metadata": {},
   "outputs": [
    {
     "data": {
      "image/png": "[encoded data removed]",
      "text/plain": [
       "<Figure size 1080x432 with 5 Axes>"
      ]
     },
     "metadata": {},
     "output_type": "display_data"
    }
   ],
   "source": [
    "# Calculamos la media de cada característica para cada categoría del Objetivo (target) exited , \n",
    "# Exited = El cliente se ha ido (1 - sí; 0 - no)\n",
    "\n",
    "features = ['age', 'tenure', 'balance', 'numofproducts', 'estimatedsalary']\n",
    "colors = ['skyblue', 'salmon']\n",
    "\n",
    "plt.figure(figsize=(15, 6))\n",
    "\n",
    "for i, feature in enumerate(features, start=1):\n",
    "    plt.subplot(1, 5, i)\n",
    "    feature_mean_by_exited = dbank.groupby('exited')[feature].mean()\n",
    "    feature_mean_by_exited.plot(kind='bar', color=colors)\n",
    "    plt.title(f'{feature.capitalize()} Promedio')\n",
    "    plt.xlabel('Exited (0: No, 1: Sí)')\n",
    "    plt.ylabel(f'{feature.capitalize()} Promedio')\n",
    "    plt.xticks(rotation=0)\n",
    "    plt.grid(axis='y', linestyle='--', alpha=0.7)\n",
    "\n",
    "plt.tight_layout()\n",
    "plt.show()"
   ]
  },
  {
   "cell_type": "markdown",
   "metadata": {},
   "source": [
    "\n",
    "A partir de los gráficos podemos ver que los clientes que se han ido del banco, son clientes que en promedio tienen un mayor edad, clientes que tenían un mayor Balance, saldo de la cuenta, y un levemente mayor promedio de EstimatedSalary (salario estimado). Es decir corresponden a clientes muy interesantes o buenos clientes para el banco. \n",
    "\n",
    "También podemos ver que en promedio, los clientes que dejaron el banco, corresponden a clientes que tenían levemente menos años en depósito a plazo fijo y en promedio menos cantidad de productos.\n",
    "\n"
   ]
  },
  {
   "cell_type": "markdown",
   "metadata": {},
   "source": [
    "### Segmentación de los datos. "
   ]
  },
  {
   "cell_type": "markdown",
   "metadata": {},
   "source": [
    "Para poder continuar con el análisis solicitado, primero debemos transformar alguna características categóricas en características numéricas. Nos referimos a las columnas de gender y geography, estas dos columnas se encuentran como object (string) y las pasaremos a variables numéricas. \n",
    "\n",
    "Para el caso de la columna geography primero vamos a confirmar cuantos géneros únicos tiene, que en este caso corresponden a países."
   ]
  },
  {
   "cell_type": "code",
   "execution_count": 13,
   "metadata": {},
   "outputs": [
    {
     "name": "stdout",
     "output_type": "stream",
     "text": [
      "['France' 'Germany' 'Spain']\n"
     ]
    }
   ],
   "source": [
    "# Vamos a confirmar cuantos países (géneros únicos) posee la columna geography:\n",
    "dbank_sort = dbank.sort_values(by='geography') # primero ordenar la columna por orden alfabético\n",
    "dbank_unique = dbank_sort['geography'].unique() # segundo generamos una lista de generos únicos\n",
    "print(dbank_unique) # imprimir la lista de géneros únicos"
   ]
  },
  {
   "cell_type": "code",
   "execution_count": 14,
   "metadata": {},
   "outputs": [],
   "source": [
    "# Ocupamos el método astype para generar las columnas numéricas a partir de las columnas categóricas \n",
    "# gender y geography\n",
    "dbank [\"gender_binary\"] = (dbank[\"gender\"] == \"Female\").astype(\"int\")\n",
    "dbank[\"france_binary\"] = (dbank[\"geography\"] == \"France\").astype(\"int\")\n",
    "dbank[ \"germany_binary\"] = (dbank [\"geography\"] == \"Germany\").astype(\"int\")"
   ]
  },
  {
   "cell_type": "markdown",
   "metadata": {},
   "source": [
    "A continuación verificamos con el método info la creación y tipo de las nuevas columnas generadas: gender_binary (1= Female, o= Male), france_binary (1=France, o= No france) y germany_binary (1= Germany, 0= No Germany)."
   ]
  },
  {
   "cell_type": "code",
   "execution_count": 15,
   "metadata": {},
   "outputs": [
    {
     "name": "stdout",
     "output_type": "stream",
     "text": [
      "<class 'pandas.core.frame.DataFrame'>\n",
      "RangeIndex: 10000 entries, 0 to 9999\n",
      "Data columns (total 17 columns):\n",
      " #   Column           Non-Null Count  Dtype  \n",
      "---  ------           --------------  -----  \n",
      " 0   rownumber        10000 non-null  int64  \n",
      " 1   customerid       10000 non-null  int64  \n",
      " 2   surname          10000 non-null  object \n",
      " 3   creditscore      10000 non-null  int64  \n",
      " 4   geography        10000 non-null  object \n",
      " 5   gender           10000 non-null  object \n",
      " 6   age              10000 non-null  int64  \n",
      " 7   tenure           10000 non-null  float64\n",
      " 8   balance          10000 non-null  float64\n",
      " 9   numofproducts    10000 non-null  int64  \n",
      " 10  hascrcard        10000 non-null  int64  \n",
      " 11  isactivemember   10000 non-null  int64  \n",
      " 12  estimatedsalary  10000 non-null  float64\n",
      " 13  exited           10000 non-null  int64  \n",
      " 14  gender_binary    10000 non-null  int64  \n",
      " 15  france_binary    10000 non-null  int64  \n",
      " 16  germany_binary   10000 non-null  int64  \n",
      "dtypes: float64(3), int64(11), object(3)\n",
      "memory usage: 1.3+ MB\n"
     ]
    }
   ],
   "source": [
    "dbank.info()"
   ]
  },
  {
   "cell_type": "markdown",
   "metadata": {},
   "source": [
    "A continuación imprimimos las 10 primeras líneas del conjunto de datos, y confirmamos la generación de las nuevas columnas gender_binary, france_binary y germany_binary."
   ]
  },
  {
   "cell_type": "code",
   "execution_count": 16,
   "metadata": {},
   "outputs": [
    {
     "data": {
      "text/html": [
       "<div>\n",
       "<style scoped>\n",
       "    .dataframe tbody tr th:only-of-type {\n",
       "        vertical-align: middle;\n",
       "    }\n",
       "\n",
       "    .dataframe tbody tr th {\n",
       "        vertical-align: top;\n",
       "    }\n",
       "\n",
       "    .dataframe thead th {\n",
       "        text-align: right;\n",
       "    }\n",
       "</style>\n",
       "<table border=\"1\" class=\"dataframe\">\n",
       "  <thead>\n",
       "    <tr style=\"text-align: right;\">\n",
       "      <th></th>\n",
       "      <th>rownumber</th>\n",
       "      <th>customerid</th>\n",
       "      <th>surname</th>\n",
       "      <th>creditscore</th>\n",
       "      <th>geography</th>\n",
       "      <th>gender</th>\n",
       "      <th>age</th>\n",
       "      <th>tenure</th>\n",
       "      <th>balance</th>\n",
       "      <th>numofproducts</th>\n",
       "      <th>hascrcard</th>\n",
       "      <th>isactivemember</th>\n",
       "      <th>estimatedsalary</th>\n",
       "      <th>exited</th>\n",
       "      <th>gender_binary</th>\n",
       "      <th>france_binary</th>\n",
       "      <th>germany_binary</th>\n",
       "    </tr>\n",
       "  </thead>\n",
       "  <tbody>\n",
       "    <tr>\n",
       "      <th>0</th>\n",
       "      <td>1</td>\n",
       "      <td>15634602</td>\n",
       "      <td>Hargrave</td>\n",
       "      <td>619</td>\n",
       "      <td>France</td>\n",
       "      <td>Female</td>\n",
       "      <td>42</td>\n",
       "      <td>2.0</td>\n",
       "      <td>0.00</td>\n",
       "      <td>1</td>\n",
       "      <td>1</td>\n",
       "      <td>1</td>\n",
       "      <td>101348.88</td>\n",
       "      <td>1</td>\n",
       "      <td>1</td>\n",
       "      <td>1</td>\n",
       "      <td>0</td>\n",
       "    </tr>\n",
       "    <tr>\n",
       "      <th>1</th>\n",
       "      <td>2</td>\n",
       "      <td>15647311</td>\n",
       "      <td>Hill</td>\n",
       "      <td>608</td>\n",
       "      <td>Spain</td>\n",
       "      <td>Female</td>\n",
       "      <td>41</td>\n",
       "      <td>1.0</td>\n",
       "      <td>83807.86</td>\n",
       "      <td>1</td>\n",
       "      <td>0</td>\n",
       "      <td>1</td>\n",
       "      <td>112542.58</td>\n",
       "      <td>0</td>\n",
       "      <td>1</td>\n",
       "      <td>0</td>\n",
       "      <td>0</td>\n",
       "    </tr>\n",
       "    <tr>\n",
       "      <th>2</th>\n",
       "      <td>3</td>\n",
       "      <td>15619304</td>\n",
       "      <td>Onio</td>\n",
       "      <td>502</td>\n",
       "      <td>France</td>\n",
       "      <td>Female</td>\n",
       "      <td>42</td>\n",
       "      <td>8.0</td>\n",
       "      <td>159660.80</td>\n",
       "      <td>3</td>\n",
       "      <td>1</td>\n",
       "      <td>0</td>\n",
       "      <td>113931.57</td>\n",
       "      <td>1</td>\n",
       "      <td>1</td>\n",
       "      <td>1</td>\n",
       "      <td>0</td>\n",
       "    </tr>\n",
       "    <tr>\n",
       "      <th>3</th>\n",
       "      <td>4</td>\n",
       "      <td>15701354</td>\n",
       "      <td>Boni</td>\n",
       "      <td>699</td>\n",
       "      <td>France</td>\n",
       "      <td>Female</td>\n",
       "      <td>39</td>\n",
       "      <td>1.0</td>\n",
       "      <td>0.00</td>\n",
       "      <td>2</td>\n",
       "      <td>0</td>\n",
       "      <td>0</td>\n",
       "      <td>93826.63</td>\n",
       "      <td>0</td>\n",
       "      <td>1</td>\n",
       "      <td>1</td>\n",
       "      <td>0</td>\n",
       "    </tr>\n",
       "    <tr>\n",
       "      <th>4</th>\n",
       "      <td>5</td>\n",
       "      <td>15737888</td>\n",
       "      <td>Mitchell</td>\n",
       "      <td>850</td>\n",
       "      <td>Spain</td>\n",
       "      <td>Female</td>\n",
       "      <td>43</td>\n",
       "      <td>2.0</td>\n",
       "      <td>125510.82</td>\n",
       "      <td>1</td>\n",
       "      <td>1</td>\n",
       "      <td>1</td>\n",
       "      <td>79084.10</td>\n",
       "      <td>0</td>\n",
       "      <td>1</td>\n",
       "      <td>0</td>\n",
       "      <td>0</td>\n",
       "    </tr>\n",
       "    <tr>\n",
       "      <th>5</th>\n",
       "      <td>6</td>\n",
       "      <td>15574012</td>\n",
       "      <td>Chu</td>\n",
       "      <td>645</td>\n",
       "      <td>Spain</td>\n",
       "      <td>Male</td>\n",
       "      <td>44</td>\n",
       "      <td>8.0</td>\n",
       "      <td>113755.78</td>\n",
       "      <td>2</td>\n",
       "      <td>1</td>\n",
       "      <td>0</td>\n",
       "      <td>149756.71</td>\n",
       "      <td>1</td>\n",
       "      <td>0</td>\n",
       "      <td>0</td>\n",
       "      <td>0</td>\n",
       "    </tr>\n",
       "    <tr>\n",
       "      <th>6</th>\n",
       "      <td>7</td>\n",
       "      <td>15592531</td>\n",
       "      <td>Bartlett</td>\n",
       "      <td>822</td>\n",
       "      <td>France</td>\n",
       "      <td>Male</td>\n",
       "      <td>50</td>\n",
       "      <td>7.0</td>\n",
       "      <td>0.00</td>\n",
       "      <td>2</td>\n",
       "      <td>1</td>\n",
       "      <td>1</td>\n",
       "      <td>10062.80</td>\n",
       "      <td>0</td>\n",
       "      <td>0</td>\n",
       "      <td>1</td>\n",
       "      <td>0</td>\n",
       "    </tr>\n",
       "    <tr>\n",
       "      <th>7</th>\n",
       "      <td>8</td>\n",
       "      <td>15656148</td>\n",
       "      <td>Obinna</td>\n",
       "      <td>376</td>\n",
       "      <td>Germany</td>\n",
       "      <td>Female</td>\n",
       "      <td>29</td>\n",
       "      <td>4.0</td>\n",
       "      <td>115046.74</td>\n",
       "      <td>4</td>\n",
       "      <td>1</td>\n",
       "      <td>0</td>\n",
       "      <td>119346.88</td>\n",
       "      <td>1</td>\n",
       "      <td>1</td>\n",
       "      <td>0</td>\n",
       "      <td>1</td>\n",
       "    </tr>\n",
       "    <tr>\n",
       "      <th>8</th>\n",
       "      <td>9</td>\n",
       "      <td>15792365</td>\n",
       "      <td>He</td>\n",
       "      <td>501</td>\n",
       "      <td>France</td>\n",
       "      <td>Male</td>\n",
       "      <td>44</td>\n",
       "      <td>4.0</td>\n",
       "      <td>142051.07</td>\n",
       "      <td>2</td>\n",
       "      <td>0</td>\n",
       "      <td>1</td>\n",
       "      <td>74940.50</td>\n",
       "      <td>0</td>\n",
       "      <td>0</td>\n",
       "      <td>1</td>\n",
       "      <td>0</td>\n",
       "    </tr>\n",
       "    <tr>\n",
       "      <th>9</th>\n",
       "      <td>10</td>\n",
       "      <td>15592389</td>\n",
       "      <td>H?</td>\n",
       "      <td>684</td>\n",
       "      <td>France</td>\n",
       "      <td>Male</td>\n",
       "      <td>27</td>\n",
       "      <td>2.0</td>\n",
       "      <td>134603.88</td>\n",
       "      <td>1</td>\n",
       "      <td>1</td>\n",
       "      <td>1</td>\n",
       "      <td>71725.73</td>\n",
       "      <td>0</td>\n",
       "      <td>0</td>\n",
       "      <td>1</td>\n",
       "      <td>0</td>\n",
       "    </tr>\n",
       "  </tbody>\n",
       "</table>\n",
       "</div>"
      ],
      "text/plain": [
       "   rownumber  customerid   surname  creditscore geography  gender  age  \\\n",
       "0          1    15634602  Hargrave          619    France  Female   42   \n",
       "1          2    15647311      Hill          608     Spain  Female   41   \n",
       "2          3    15619304      Onio          502    France  Female   42   \n",
       "3          4    15701354      Boni          699    France  Female   39   \n",
       "4          5    15737888  Mitchell          850     Spain  Female   43   \n",
       "5          6    15574012       Chu          645     Spain    Male   44   \n",
       "6          7    15592531  Bartlett          822    France    Male   50   \n",
       "7          8    15656148    Obinna          376   Germany  Female   29   \n",
       "8          9    15792365        He          501    France    Male   44   \n",
       "9         10    15592389        H?          684    France    Male   27   \n",
       "\n",
       "   tenure    balance  numofproducts  hascrcard  isactivemember  \\\n",
       "0     2.0       0.00              1          1               1   \n",
       "1     1.0   83807.86              1          0               1   \n",
       "2     8.0  159660.80              3          1               0   \n",
       "3     1.0       0.00              2          0               0   \n",
       "4     2.0  125510.82              1          1               1   \n",
       "5     8.0  113755.78              2          1               0   \n",
       "6     7.0       0.00              2          1               1   \n",
       "7     4.0  115046.74              4          1               0   \n",
       "8     4.0  142051.07              2          0               1   \n",
       "9     2.0  134603.88              1          1               1   \n",
       "\n",
       "   estimatedsalary  exited  gender_binary  france_binary  germany_binary  \n",
       "0        101348.88       1              1              1               0  \n",
       "1        112542.58       0              1              0               0  \n",
       "2        113931.57       1              1              1               0  \n",
       "3         93826.63       0              1              1               0  \n",
       "4         79084.10       0              1              0               0  \n",
       "5        149756.71       1              0              0               0  \n",
       "6         10062.80       0              0              1               0  \n",
       "7        119346.88       1              1              0               1  \n",
       "8         74940.50       0              0              1               0  \n",
       "9         71725.73       0              0              1               0  "
      ]
     },
     "execution_count": 16,
     "metadata": {},
     "output_type": "execute_result"
    }
   ],
   "source": [
    "dbank.head(10)"
   ]
  },
  {
   "cell_type": "markdown",
   "metadata": {},
   "source": [
    "Vamos a proceder a segmentar los datos fuente en un conjunto de entrenamiento, uno de validación y uno de prueba."
   ]
  },
  {
   "cell_type": "code",
   "execution_count": 17,
   "metadata": {},
   "outputs": [],
   "source": [
    "# Identificamos las columnas que no vamos a utilizar:\n",
    "drop_columns = [\"rownumber\", \"customerid\", \"surname\", \"geography\", \"gender\"]\n",
    "\n",
    "# Extraemos la variable objetivo (target) del conjunto de datos y la almacenamos en target.\n",
    "target = \"exited\"\n",
    "\n",
    "# Extraemos las características (features) del conjunto de datos y las almacenamos en features.\n",
    "features = [c for c in dbank.columns if c not in drop_columns + [target]]"
   ]
  },
  {
   "cell_type": "code",
   "execution_count": 18,
   "metadata": {},
   "outputs": [
    {
     "data": {
      "text/plain": [
       "['creditscore',\n",
       " 'age',\n",
       " 'tenure',\n",
       " 'balance',\n",
       " 'numofproducts',\n",
       " 'hascrcard',\n",
       " 'isactivemember',\n",
       " 'estimatedsalary',\n",
       " 'gender_binary',\n",
       " 'france_binary',\n",
       " 'germany_binary']"
      ]
     },
     "execution_count": 18,
     "metadata": {},
     "output_type": "execute_result"
    }
   ],
   "source": [
    "# Comprobamos que están correctas las caraterísticas (features), que son todos menos las variable aobjetivo.\n",
    "features"
   ]
  },
  {
   "cell_type": "markdown",
   "metadata": {},
   "source": [
    "Vamos a realizar la segmentación de los datos en conjuntos de entrenamiento, validación y prueba utilizando la función train_test_split() de scikit-learn.\n",
    "\n",
    "El conjunto de datos de Beta Bank se va a dividir en:\n",
    "\n",
    "Conjunto de Prueba (test_df): Se obtendrá del 18% del conjunto de datos original utilizando la primera llamada a train_test_split(). Este conjunto se utilizará para evaluar el rendimiento final del modelo.\n",
    "\n",
    "Conjunto de Entrenamiento Completo (full_train_df): Se obtendrá del 82% restante del conjunto de datos original que no se utilizó para el conjunto de prueba.\n",
    "\n",
    "Conjunto de Entrenamiento (train_df) y Conjunto de Validación (valid_df): Se obtienen dividiendo el conjunto de entrenamiento completo en una proporción del 77% y 23%, respectivamente, utilizando la segunda llamada a train_test_split()."
   ]
  },
  {
   "cell_type": "code",
   "execution_count": 19,
   "metadata": {},
   "outputs": [],
   "source": [
    "# El dataset dbank se divide en el conjunto de prueba (test_df) y el conjunto de entrenamiento completo\n",
    "# (full_train_df):\n",
    "full_train_df, test_df = train_test_split(\n",
    "    dbank,\n",
    "    test_size=0.18, \n",
    "    random_state=12345)\n",
    "\n",
    "# El conjunto de entrenamiento completo (full_train_df) se divide en el conjunto de entrenamiento (train_df) y \n",
    "# conjunto de validación (valid_df):\n",
    "train_df, valid_df = train_test_split(\n",
    "    full_train_df, \n",
    "    test_size=0.23, \n",
    "    random_state=12345)"
   ]
  },
  {
   "cell_type": "code",
   "execution_count": 20,
   "metadata": {},
   "outputs": [
    {
     "name": "stdout",
     "output_type": "stream",
     "text": [
      "Forma del Dataframe: (10000, 17)\n",
      "Forma del conjunto de entrenamiento: (6314, 17)\n",
      "Forma del conjunto de validación: (1886, 17)\n",
      "Forma del conjunto de prueba: (1800, 17)\n"
     ]
    }
   ],
   "source": [
    "# Imprimimos las formas (shapes) de los conjuntos de datos resultantes, para verificar sus tamaños.\n",
    "print(\"Forma del Dataframe:\", dbank.shape)\n",
    "print(\"Forma del conjunto de entrenamiento:\", train_df.shape)\n",
    "print(\"Forma del conjunto de validación:\", valid_df.shape)\n",
    "print(\"Forma del conjunto de prueba:\", test_df.shape)"
   ]
  },
  {
   "cell_type": "markdown",
   "metadata": {},
   "source": [
    "Mediante este método shape() confirmamos el tamaño del conjunto de entrenamiento de 63%, \n",
    "el conjunto de validación 19% y el conjunto de prueba de un 18%."
   ]
  },
  {
   "cell_type": "code",
   "execution_count": 21,
   "metadata": {},
   "outputs": [
    {
     "data": {
      "text/plain": [
       "[1.0, 0.82, 0.6314, 0.1886, 0.18]"
      ]
     },
     "execution_count": 21,
     "metadata": {},
     "output_type": "execute_result"
    }
   ],
   "source": [
    "[len (df)/ len (dbank) for df in [dbank, full_train_df, train_df, valid_df, test_df]]"
   ]
  },
  {
   "cell_type": "markdown",
   "metadata": {},
   "source": [
    "Mediante este cálculo confirmamos los porcentajes de cada conjunto, vemos que el conjunto de entrenamiento tiene un 63% del total, en cambio los conjuntods de validación y prueba tienen un 19% y 18% erspectivamente."
   ]
  },
  {
   "cell_type": "markdown",
   "metadata": {},
   "source": [
    "### Equilibrio de Clases. "
   ]
  },
  {
   "cell_type": "markdown",
   "metadata": {},
   "source": [
    "Para analizar el equilibrio de clases, vamos a ocupar un Modelo de Bosque Aleatorio (RandomForestClassifier) con 100 árboles en el bosque (n_estimators=100)  y un estado aleatorio fijo para reproducibilidad (random_state=12345)."
   ]
  },
  {
   "cell_type": "code",
   "execution_count": 22,
   "metadata": {},
   "outputs": [
    {
     "data": {
      "text/plain": [
       "0.876458112407211"
      ]
     },
     "execution_count": 22,
     "metadata": {},
     "output_type": "execute_result"
    }
   ],
   "source": [
    "# Creamos el Modelo de Bosque Aleatorio (RandomForestClassifier) con 100 árboles en el bosque (n_estimators=100) \n",
    "# y un estado aleatorio fijo para reproducibilidad (random_state=12345).\n",
    "model = RandomForestClassifier(n_estimators=100, random_state=12345)\n",
    "\n",
    "# Luego entrenamos el Modelo utilizando las características (features) del conjunto de entrenamiento (train_df)\n",
    "# y la variable objetivo (target).\n",
    "model.fit(train_df[features], train_df[target])\n",
    "\n",
    "# Utilizamos el modelo entrenado para hacer predicciones sobre las características del conjunto de validación\n",
    "# (valid_df[features]).\n",
    "y_preds = model.predict(valid_df[features])\n",
    "\n",
    "# Finalmente calculamos la exactitud del modelo comparando las etiquetas predichas (y_preds) \n",
    "# con las etiquetas reales del conjunto de validación (valid_df[target]).\n",
    "accuracy_score(valid_df[target], y_preds)"
   ]
  },
  {
   "cell_type": "code",
   "execution_count": 23,
   "metadata": {},
   "outputs": [
    {
     "data": {
      "text/plain": [
       "0.7888888888888889"
      ]
     },
     "execution_count": 23,
     "metadata": {},
     "output_type": "execute_result"
    }
   ],
   "source": [
    "#Calculamos la proporción de muestras con el valor de la clase  0 (Exited: El cliente se ha ido (1 - sí; 0 - no)) \n",
    "# en el conjunto de prueba.\n",
    "(test_df[target] == 0).mean()"
   ]
  },
  {
   "cell_type": "code",
   "execution_count": 24,
   "metadata": {},
   "outputs": [
    {
     "data": {
      "text/plain": [
       "0.2111111111111111"
      ]
     },
     "execution_count": 24,
     "metadata": {},
     "output_type": "execute_result"
    }
   ],
   "source": [
    "#Calculamos la proporción de muestras con el valor de la clase 1 (Exited: El cliente se ha ido (1 - sí; 0 - no)) \n",
    "# en el conjunto de prueba.\n",
    "(test_df[target] == 1). mean ()"
   ]
  },
  {
   "cell_type": "markdown",
   "metadata": {},
   "source": [
    "Con el objeto de mostrar de manera más visual el desequilibrio entre las clases, realizamos un gráfico de la frecuncia de clases."
   ]
  },
  {
   "cell_type": "code",
   "execution_count": 25,
   "metadata": {},
   "outputs": [
    {
     "data": {
      "image/png": "[encoded data removed]",
      "text/plain": [
       "<Figure size 576x432 with 1 Axes>"
      ]
     },
     "metadata": {},
     "output_type": "display_data"
    }
   ],
   "source": [
    "# Predecimos las clases en el conjunto de validación. \n",
    "# Para hacer que value_counts() funcione, convertimos los resultados a pd.Series\n",
    "predicted_valid = pd.Series(model.predict(valid_df[features]))\n",
    "\n",
    "# Calculamos la frecuencia de cada clase\n",
    "class_frequency = predicted_valid.value_counts(normalize=True)\n",
    "\n",
    "# Creamos el gráfico de barras\n",
    "plt.figure(figsize=(8, 6))\n",
    "class_frequency.plot(kind='bar', color=['blue', 'orange'])\n",
    "plt.title('Frecuencia de Clases')\n",
    "plt.xlabel('Clase')\n",
    "plt.ylabel('Frecuencia Normalizada')\n",
    "plt.xticks(rotation=0)\n",
    "plt.show()"
   ]
  },
  {
   "cell_type": "markdown",
   "metadata": {},
   "source": [
    "Por definición las clases están desequilibradas cuando su proporción está lejos de 1:1. \n",
    "Eso quiere decir que el equilibrio de clases se observa si su número es aproximadamente igual\n",
    "Vemos que para nuestro conjunto de datos, las clases se encuentran desequilibradas, debido a que la clase 0 se encuentra en un 79% aprox. y la clase 1 está en un 21%.\n",
    "\n",
    "Obtuvimos una exactitud del modelo de aproximadamente 0.8764 al usar el modelo de Bosque Aleatorio en el conjunto de validación. Esto significa que el modelo de Bosque Aleatorio logró clasificar correctamente alrededor del 87.64% de las muestras en el conjunto de validación.\n",
    "\n",
    "Sin embargo lamentablemente la exactitud no evalúa bien el modelo en un escenario de fuerte desequilibrio como el que hemos detectado.\n",
    "\n",
    "La exactitud del modelo fue del 87.6%, lo que indica un buen rendimiento general. Sin embargo, al observar las proporciones de las clases, vemos que la clase 0 (clientes que no abandonaron el banco) es dominante en comparación con la clase 1 (clientes que abandonaron el banco). Esta desigualdad en la distribución de clases puede afectar la capacidad del modelo para detectar correctamente la clase minoritaria."
   ]
  },
  {
   "cell_type": "markdown",
   "metadata": {},
   "source": [
    "### Ajuste de Peso de Clase. "
   ]
  },
  {
   "cell_type": "markdown",
   "metadata": {},
   "source": [
    "Para abordar el desequilibrio de clases encontrado en un conjunto de datos vamos a utilizar diferentes valores de Peso de Clase (class_weights). Al ajustar los pesos de clase, podemos indicar al modelo que preste más atención a las muestras de la clase minoritaria durante el entrenamiento. Esto puede conducir a una mejora en la capacidad del modelo para detectar correctamente las instancias de la clase minoritaria.\n",
    "\n",
    "Entonces, procederemos a probar diferentes valores de class_weights y evaluaremos cómo afectan el desempeño del modelo en términos de F1-score."
   ]
  },
  {
   "cell_type": "code",
   "execution_count": 54,
   "metadata": {},
   "outputs": [
    {
     "name": "stdout",
     "output_type": "stream",
     "text": [
      "Mejor valor de class_weights: 4.5\n",
      "Mejor F1-score obtenido: 0.5972222222222221\n"
     ]
    }
   ],
   "source": [
    "# Definirmos los valores de Peso de Clase (class_weights) que vamos probar:\n",
    "class_weight_values = [4, 4.5, 5, 5.5, 6]\n",
    "\n",
    "# Inicializamos una lista para almacenar los resultados del F1-score para cada valor de class_weights:\n",
    "f1_scores = []\n",
    "\n",
    "# Iteramos sobre los valores de class_weights\n",
    "for class_weight_value in class_weight_values:\n",
    "    \n",
    "    # Creamos un modelo RandomForestClassifier con el valor de class_weights actual\n",
    "    model = RandomForestClassifier(n_estimators=100, random_state=12345, class_weight={0: 1, 1: class_weight_value})\n",
    "    \n",
    "    # Entrenamos el modelo con el conjunto de entrenamiento\n",
    "    model.fit(train_df[features], train_df[target])\n",
    "    \n",
    "    # Realizamos predicciones en el conjunto de validación\n",
    "    y_pred = model.predict(valid_df[features])\n",
    "    \n",
    "    # Calculamos el F1-score y agregarlo a la lista de resultados\n",
    "    f1 = f1_score(valid_df[target], y_pred)\n",
    "    f1_scores.append(f1)\n",
    "\n",
    "# Encontramos el mejor valor de class_weights (el que maximiza el F1-score)\n",
    "best_class_weight_value = class_weight_values[f1_scores.index(max(f1_scores))]\n",
    "best_f1_score = max(f1_scores)\n",
    "\n",
    "print(\"Mejor valor de class_weights:\", best_class_weight_value)\n",
    "print(\"Mejor F1-score obtenido:\", best_f1_score)"
   ]
  },
  {
   "cell_type": "markdown",
   "metadata": {},
   "source": [
    "El mejor valor de class_weights encontrado fue 4.5, y el F1-score correspondiente obtenido fue de aproximadamente 0.597. Ahora, vamos a aplicar este valor de class_weights al modelo final y evaluar su rendimiento en el conjunto de prueba para confirmar si también mejora el desempeño en datos no vistos."
   ]
  },
  {
   "cell_type": "code",
   "execution_count": 55,
   "metadata": {},
   "outputs": [
    {
     "name": "stdout",
     "output_type": "stream",
     "text": [
      "F1 Score en el conjunto de prueba: 0.5564924114671164\n",
      "ROC AUC Score en el conjunto de prueba: 0.7002038547071905\n"
     ]
    }
   ],
   "source": [
    "# Creamos el modelo de RandomForestClassifier con el mejor valor de class_weights encontrado\n",
    "model = RandomForestClassifier(n_estimators=100, random_state=12345, class_weight={0: 1, 1: 4.5})\n",
    "\n",
    "# Entrenamos el modelo utilizando el conjunto de entrenamiento completo\n",
    "model.fit(full_train_df[features], full_train_df[target])\n",
    "\n",
    "# Realizamos predicciones en el conjunto de prueba\n",
    "predictions_test = model.predict(test_df[features])\n",
    "\n",
    "# Calculamos el F1-score en el conjunto de prueba\n",
    "f1 = f1_score(test_df[target], predictions_test)\n",
    "\n",
    "# Calculamos el ROC AUC Score en el conjunto de prueba\n",
    "roc_auc = roc_auc_score(test_df[target], predictions_test)\n",
    "\n",
    "print(\"F1 Score en el conjunto de prueba:\", f1)\n",
    "print(\"ROC AUC Score en el conjunto de prueba:\", roc_auc)"
   ]
  },
  {
   "cell_type": "markdown",
   "metadata": {},
   "source": [
    "El F1-score disminuiyó ligeramente en comparación con el valor obtenido en el conjunto de validación, el modelo sigue teniendo un desempeño razonable con un ROC AUC Score de 0.7005 en el conjunto de prueba.\n",
    "\n",
    "Vamos a continuar con la siguiente técnica para abordar el desequlibrio de clases, con el objeto de buscar mejores resultados."
   ]
  },
  {
   "cell_type": "markdown",
   "metadata": {},
   "source": [
    "### Ajuste de Umbral. "
   ]
  },
  {
   "cell_type": "markdown",
   "metadata": {},
   "source": [
    "Implementamos la técnica de ajuste de umbral para abordar el desequlibrio de clases y mejorar la calidad del modelo. \n",
    "Para cada umbral, calculamos el F1-score utilizando las predicciones de probabilidad y el umbral actual. \n",
    "El F1-score se calcula comparando las predicciones binarias resultantes (utilizando el umbral) con las etiquetas verdaderas del conjunto de validación."
   ]
  },
  {
   "cell_type": "code",
   "execution_count": 51,
   "metadata": {},
   "outputs": [
    {
     "name": "stdout",
     "output_type": "stream",
     "text": [
      "Threshold: 0.25, F1 score: 0.5769\n",
      "Threshold: 0.26, F1 score: 0.5769\n",
      "Threshold: 0.26, F1 score: 0.5876\n",
      "Threshold: 0.27, F1 score: 0.5839\n",
      "Threshold: 0.28, F1 score: 0.5897\n",
      "Threshold: 0.29, F1 score: 0.5897\n",
      "Threshold: 0.3, F1 score: 0.6007\n",
      "Threshold: 0.3, F1 score: 0.6073\n",
      "Threshold: 0.31, F1 score: 0.6107\n",
      "Threshold: 0.32, F1 score: 0.6107\n",
      "Threshold: 0.32, F1 score: 0.6136\n",
      "Threshold: 0.33, F1 score: 0.6117\n",
      "Threshold: 0.34, F1 score: 0.6233\n",
      "Threshold: 0.35, F1 score: 0.6233\n",
      "Threshold: 0.36, F1 score: 0.6262\n",
      "Threshold: 0.36, F1 score: 0.6248\n",
      "Threshold: 0.37, F1 score: 0.6243\n",
      "Threshold: 0.38, F1 score: 0.6243\n",
      "Threshold: 0.38, F1 score: 0.6236\n",
      "Threshold: 0.39, F1 score: 0.6305\n",
      "Threshold: 0.4, F1 score: 0.6281\n"
     ]
    }
   ],
   "source": [
    "# Creamos el Modelo de Bosque Aleatorio (RandomForestClassifier) con 100 árboles en el bosque (n_estimators=100) \n",
    "# y un estado aleatorio fijo para reproducibilidad (random_state=12345).\n",
    "model = RandomForestClassifier(n_estimators=100, random_state=12345)\n",
    "\n",
    "# Luego entrenamos el Modelo utilizando las características (features) del conjunto de entrenamiento (train_df)\n",
    "# y la variable objetivo (target).\n",
    "model.fit(train_df[features], train_df[target])\n",
    "\n",
    "# Predicción de probabilidades: Se realizan predicciones de probabilidad sobre las características \n",
    "# del conjunto de validación (valid_df[features]). La probabilidad de pertenencia a la clase positiva \n",
    "# se extrae utilizando predict_proba y seleccionando la columna correspondiente a la clase positiva ([:,1]). \n",
    "predictions = model.predict_proba(valid_df[features])[:, 1]\n",
    "\n",
    "#Iteración sobre diferentes umbrales: Se itera sobre una serie de umbrales específicos, \n",
    "# que van desde 0.25 hasta 0.4 en pasos de 0.01.\n",
    "thresholds = np.linspace(0.25, 0.4, 21)\n",
    "\n",
    "# Se imprime el umbral actual y el F1-score correspondiente.\n",
    "for t in thresholds:\n",
    "    print(f\"Threshold: {round(t, 2)}, F1 score: {round(f1_score(valid_df[target], predictions > t), 4)}\")"
   ]
  },
  {
   "cell_type": "markdown",
   "metadata": {},
   "source": [
    "El resultado que obtuvimos muestra cómo varía el F1-score a medida que cambia el umbral de decisión.\n",
    "\n",
    "El objetivo es encontrar el umbral que maximiza el F1-score, lo que indica el mejor equilibrio entre precisión y exhaustividad del modelo. En nuestro caso, parece que el F1-score alcanza su punto máximo alrededor de un umbral de 0.36. Por lo que ese será el valor que utilizaremos en el modelo final.\n",
    "\n",
    "\n",
    "Hacemos predicciones en el conjunto de prueba utilizando el método predict_proba del modelo entrenado. Este método devuelve las probabilidades de pertenencia a cada clase, y estamos interesados en la probabilidad de la clase positiva, por lo que seleccionamos la segunda columna de la matriz de probabilidades utilizando [:, 1].\n",
    "\n",
    "Luego, aplicamos el umbral óptimo de 0.36 para convertir las probabilidades en predicciones binarias. Esto se hace comparando las probabilidades con el umbral y convirtiendo cualquier probabilidad superior a 0.36 en 1 (clase positiva) y cualquier probabilidad menor o igual a 0.36 en 0 (clase negativa).\n",
    "\n",
    "Finalemente calculamos el valor de F1-score y el valor de AUC-ROC utilizando las predicciones binarias y las etiquetas reales del conjunto de prueba."
   ]
  },
  {
   "cell_type": "code",
   "execution_count": 52,
   "metadata": {},
   "outputs": [
    {
     "data": {
      "text/plain": [
       "0.6168741355463349"
      ]
     },
     "execution_count": 52,
     "metadata": {},
     "output_type": "execute_result"
    }
   ],
   "source": [
    "# Hacer predicciones en el conjunto de prueba\n",
    "predictions_test = model.predict_proba(test_df[features])[:, 1]\n",
    "\n",
    "# Aplicar el umbral óptimo para convertir probabilidades en predicciones binarias\n",
    "predictions_binary = (predictions_test > 0.36).astype(int)\n",
    "\n",
    "# Calculamos el valor de f1_score\n",
    "f1_score(test_df[target], predictions_binary)"
   ]
  },
  {
   "cell_type": "code",
   "execution_count": 53,
   "metadata": {},
   "outputs": [
    {
     "data": {
      "text/plain": [
       "0.7511675315048184"
      ]
     },
     "execution_count": 53,
     "metadata": {},
     "output_type": "execute_result"
    }
   ],
   "source": [
    "# Calculamos el valor de roc_auc_score\n",
    "roc_auc_score(test_df[target], predictions_binary)"
   ]
  },
  {
   "cell_type": "markdown",
   "metadata": {},
   "source": [
    "Los resultados obtenidos son los siguientes:\n",
    "\n",
    "F1-score = 0.6168\n",
    "AUC-ROC = 0.7511\n",
    "\n",
    "\n",
    "Estos resultados son consistentes con lo que observamos anteriormente en el conjunto de validación. El F1-score alcanzó su valor máximo alrededor de 0.36, aunque un poco menor que en el conjunto de validación, lo cual es esperable ya que el modelo se está evaluando en un conjunto de datos diferente. Este resultado para F1-score es superior al valor obtenido con el método de Ajuste de Peso de Clases.\n",
    "\n",
    "Para el AUC-ROC también se obtuvo un valor alto y superior al valor obtenido con el método de Ajuste de Peso de Clases.\n",
    "\n",
    "En general, estos resultados sugieren que el modelo es capaz de generalizar bien y tiene un buen rendimiento en el conjunto de prueba, lo que indica que la estrategia de ajuste de umbral fue efectiva para mejorar el rendimiento del modelo."
   ]
  },
  {
   "cell_type": "markdown",
   "metadata": {},
   "source": [
    "### Método del Sobremuestreo. "
   ]
  },
  {
   "cell_type": "markdown",
   "metadata": {},
   "source": [
    "A continuación vamos a ocupar la técnica del Sobre Muestreo para abordar el desequilibrio de clases. Esta técnica busca equilibrar la distribución de clases aumentando el número de muestras de la clase minoritaria mediante la replicación de las muestras existentes.\n",
    "\n",
    "Vamos a replicar las muestras de la clase minoritaria (\"repeat\") calculando el valor de F1_score para los valores de repeat igual a 1, 5, 10, 15, 20, 25 y 30.  "
   ]
  },
  {
   "cell_type": "code",
   "execution_count": 31,
   "metadata": {},
   "outputs": [
    {
     "name": "stdout",
     "output_type": "stream",
     "text": [
      "F1 Score (Repeat=1): 0.5963149078726968\n",
      "F1 Score (Repeat=5): 0.6199701937406854\n",
      "F1 Score (Repeat=10): 0.6186186186186187\n",
      "F1 Score (Repeat=15): 0.6167664670658684\n",
      "F1 Score (Repeat=20): 0.6234939759036144\n",
      "F1 Score (Repeat=25): 0.6170212765957447\n",
      "F1 Score (Repeat=30): 0.6038863976083707\n",
      "Best F1 Score: 0.6234939759036144 (Repeat=20)\n"
     ]
    }
   ],
   "source": [
    "\n",
    "# Primero definimos la función para el sobremuestreo\n",
    "def upsample(features, target, repeat):\n",
    "    features_zeros = features[target == 0]\n",
    "    features_ones = features[target == 1]\n",
    "    target_zeros = target[target == 0]\n",
    "    target_ones = target[target == 1]\n",
    "\n",
    "    # Sobre muestreo de la clase minoritaria\n",
    "    features_upsampled = pd.concat([features_zeros] + [features_ones] * repeat)\n",
    "    target_upsampled = pd.concat([target_zeros] + [target_ones] * repeat)\n",
    "\n",
    "    #Mezclamos de manera aleatoria los datos:\n",
    "    features_upsampled, target_upsampled = shuffle(\n",
    "        features_upsampled, target_upsampled, random_state=12345\n",
    "    )\n",
    "\n",
    "    return features_upsampled, target_upsampled\n",
    "\n",
    "# Definimos los valores de repeat para iterar\n",
    "repeat_values = [1, 5, 10, 15, 20, 25, 30]\n",
    "\n",
    "best_f1_score = 0\n",
    "best_repeat_value = None\n",
    "\n",
    "# Iteramos sobre los valores de repeat\n",
    "for repeat in repeat_values:\n",
    "    features_upsampled, target_upsampled = upsample(\n",
    "        train_df[features], train_df[target], repeat\n",
    "    )\n",
    "\n",
    "    # Entrenamos el modelo de Random Forest\n",
    "    model = RandomForestClassifier(n_estimators=100, random_state=12345)\n",
    "    model.fit(features_upsampled, target_upsampled)\n",
    "    \n",
    "    # Realizamos predicciones en el conjunto de validación\n",
    "    predicted_valid = model.predict(valid_df[features])\n",
    "\n",
    "    # Calculamos el F1 Score\n",
    "    f1 = f1_score(valid_df[target], predicted_valid)\n",
    "    print(f\"F1 Score (Repeat={repeat}): {f1}\")\n",
    "\n",
    "    # Actualizamos el mejor F1 Score y el valor de repeat\n",
    "    if f1 > best_f1_score:\n",
    "        best_f1_score = f1\n",
    "        best_repeat_value = repeat\n",
    "\n",
    "# Mostramos el mejor F1 Score y el valor de repeat asociado\n",
    "print(f\"Best F1 Score: {best_f1_score} (Repeat={best_repeat_value})\")"
   ]
  },
  {
   "cell_type": "markdown",
   "metadata": {},
   "source": [
    "El mejor valor que obtuvimos para el F1_score fue para repeat = 20, por lo que ahora calculamos el valor de F1-score y el valor de AUC-ROC utilizando ese valor de repeat en el conjunto de prueba."
   ]
  },
  {
   "cell_type": "code",
   "execution_count": 34,
   "metadata": {},
   "outputs": [
    {
     "name": "stdout",
     "output_type": "stream",
     "text": [
      "F1 Score en el conjunto de prueba: 0.5807407407407408\n",
      "AUC_ROC en el conjunto de prueba: 0.7230355819125278\n"
     ]
    }
   ],
   "source": [
    "# Aplicar sobremuestreo en el conjunto de entrenamiento completo\n",
    "features_upsampled, target_upsampled = upsample(\n",
    "    full_train_df[features], full_train_df[target], repeat=20\n",
    ")\n",
    "\n",
    "# Entrenar el modelo RandomForestClassifier\n",
    "model = RandomForestClassifier(n_estimators=100, random_state=12345)\n",
    "model.fit(features_upsampled, target_upsampled)\n",
    "\n",
    "# Hacer predicciones en el conjunto de prueba\n",
    "predictions_test = model.predict(test_df[features])\n",
    "\n",
    "# Calcular el F1 Score en el conjunto de prueba\n",
    "f1_score_test = f1_score(test_df[target], predictions_test)\n",
    "print(\"F1 Score en el conjunto de prueba:\", f1_score_test)\n",
    "print(\"AUC_ROC en el conjunto de prueba:\",roc_auc_score(test_df[target], predictions_test))"
   ]
  },
  {
   "cell_type": "markdown",
   "metadata": {},
   "source": [
    "### Conclusión General. "
   ]
  },
  {
   "cell_type": "markdown",
   "metadata": {},
   "source": [
    "En este proyecto trabajamos con los datos de los clientes del banco Beta Bank. \n",
    "Luego de cargar y preprocesar los datos para el análisis, en este proyecto exploramos dos técnicas\n",
    "para abordar el desequilibrio de clases en problemas de clasificación. Para ello ocupamos los métodos de \n",
    "ajuste de Pesos de Clases y de ajuste de Umbral. \n",
    "\n",
    "Con el método de ajuste de Pesos de Clases, el utilizar diferentes pesos para las clases desequilibradas \n",
    "puede ayudar al modelo a dar más importancia a las muestras de la clase minoritaria durante el entrenamiento. \n",
    "En nuestro caso, encontramos que ajustar los pesos de las clases a 4.5 produjo el mejor F1-score en el conjunto \n",
    "de validación.\n",
    "\n",
    "Con el método de Ajuste de Umbral, al modificar el umbral de probabilidad para asignar etiquetas de clase, podemos \n",
    "ajustar la sensibilidad y la especificidad del modelo para adaptarse a las necesidades específicas del problema.\n",
    "En nuestro caso,  el F1-score alcanzó su punto máximo alrededor de un umbral de 0.36. \n",
    "Por lo que ese fue el valor que utilizamos en el modelo final.\n",
    "\n",
    "Obtuvimos mejores resultados con el método de Ajuste de Umbral, en el conjunto de prueba el F1-score \n",
    "obtuvo a un valor de 0,6168, valor superior al valor límite de 0,59 solicitado para el proyecto.\n",
    "\n",
    "También para ambos métodos fueron calculados los valores de AUC-ROC; obteniendo valores de 0,70 para el método \n",
    "de ajuste de Pesos de Clases y de 0,7511 para el método de ajuste de Umbral. Ambos representan valores \n",
    "razonables en el conjunto de prueba, lo que sugiere que el modelo generaliza bien a datos no vistos.\n",
    "\n"
   ]
  }
 ],
 "metadata": {
  "kernelspec": {
   "display_name": "Python 3 (ipykernel)",
   "language": "python",
   "name": "python3"
  },
  "language_info": {
   "codemirror_mode": {
    "name": "ipython",
    "version": 3
   },
   "file_extension": ".py",
   "mimetype": "text/x-python",
   "name": "python",
   "nbconvert_exporter": "python",
   "pygments_lexer": "ipython3",
   "version": "3.9.19"
  },
  "toc": {
   "base_numbering": 1,
   "nav_menu": {},
   "number_sections": true,
   "sideBar": true,
   "skip_h1_title": true,
   "title_cell": "Table of Contents",
   "title_sidebar": "Contents",
   "toc_cell": false,
   "toc_position": {},
   "toc_section_display": true,
   "toc_window_display": false
  }
 },
 "nbformat": 4,
 "nbformat_minor": 2
}
